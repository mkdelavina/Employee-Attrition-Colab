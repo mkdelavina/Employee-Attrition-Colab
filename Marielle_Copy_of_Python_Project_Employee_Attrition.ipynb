{
  "nbformat": 4,
  "nbformat_minor": 0,
  "metadata": {
    "colab": {
      "provenance": [],
      "collapsed_sections": [
        "xaYqvV3_tTMq",
        "bNBs_9cZKbHw",
        "w7dGI11ctKCd",
        "96e_Vmklu9LJ",
        "HD4hUzvOKU-c",
        "Fwg-SCSIK6tS",
        "e5lo9MygvO9V"
      ],
      "toc_visible": true
    },
    "kernelspec": {
      "name": "python3",
      "display_name": "Python 3"
    },
    "language_info": {
      "name": "python"
    }
  },
  "cells": [
    {
      "cell_type": "markdown",
      "source": [
        "# Analyse Employee Attrition"
      ],
      "metadata": {
        "id": "dNMx96DiKTyq"
      }
    },
    {
      "cell_type": "markdown",
      "source": [
        "## Task"
      ],
      "metadata": {
        "id": "xaYqvV3_tTMq"
      }
    },
    {
      "cell_type": "markdown",
      "source": [
        "\n",
        "Uncover the factors that lead to employee attrition.\n",
        "\n",
        "1. Have a look at the variables, understand what they are.\n",
        "2. Which variables are associated with attrition? For which groups of employees\n",
        "does this association hold (`Department`, `JobLevel`, etc.)? Formulate several hypotheses.\n",
        "3. Explore each hypothesis.\n",
        "    - Make plots and/or compute statistics.\n",
        "    - Write a short conclusion, refer to the justifications you found in the data."
      ],
      "metadata": {
        "id": "KXFeuYX3BXIL"
      }
    },
    {
      "cell_type": "markdown",
      "source": [
        "## Dataset"
      ],
      "metadata": {
        "id": "bNBs_9cZKbHw"
      }
    },
    {
      "cell_type": "markdown",
      "source": [
        "_Source: https://www.kaggle.com/datasets/whenamancodes/hr-employee-attrition_\n",
        "\n",
        "_Check this other site for additional documentation about the variables: https://www.kaggle.com/datasets/thedevastator/employee-attrition-and-factors/data_\n",
        "\n",
        "This is a fictional data set created by IBM data scientists. It contains data about employees in a company.\n",
        "\n",
        "Encoding of some of the columns:\n",
        "\n",
        "```\n",
        "Education\n",
        "1 'Below College'\n",
        "2 'College'\n",
        "3 'Bachelor'\n",
        "4 'Master'\n",
        "5 'Doctor'\n",
        "\n",
        "EnvironmentSatisfaction\n",
        "1 'Low'\n",
        "2 'Medium'\n",
        "3 'High'\n",
        "4 'Very High'\n",
        "\n",
        "JobInvolvement\n",
        "1 'Low'\n",
        "2 'Medium'\n",
        "3 'High'\n",
        "4 'Very High'\n",
        "\n",
        "JobSatisfaction\n",
        "1 'Low'\n",
        "2 'Medium'\n",
        "3 'High'\n",
        "4 'Very High'\n",
        "\n",
        "PerformanceRating\n",
        "1 'Low'\n",
        "2 'Good'\n",
        "3 'Excellent'\n",
        "4 'Outstanding'\n",
        "\n",
        "RelationshipSatisfaction\n",
        "1 'Low'\n",
        "2 'Medium'\n",
        "3 'High'\n",
        "4 'Very High'\n",
        "\n",
        "WorkLifeBalance\n",
        "1 'Bad'\n",
        "2 'Good'\n",
        "3 'Better'\n",
        "4 'Best'\n",
        "```"
      ],
      "metadata": {
        "id": "fRQT1-1nKgi7"
      }
    },
    {
      "cell_type": "markdown",
      "source": [
        "## Analysis"
      ],
      "metadata": {
        "id": "w7dGI11ctKCd"
      }
    },
    {
      "cell_type": "code",
      "source": [
        "import numpy as np\n",
        "import pandas as pd\n",
        "import seaborn as sns\n",
        "import matplotlib.pyplot as plt\n",
        "from matplotlib.ticker import FuncFormatter\n",
        "\n",
        "# From https://drive.google.com/file/d/1TGVkYpXg9efkuh-N3UCaahBtCQhs65vy/view\n",
        "df = pd.read_csv(\n",
        "    \"https://drive.google.com/uc?id=1TGVkYpXg9efkuh-N3UCaahBtCQhs65vy\",\n",
        "    true_values=[\"Yes\"],\n",
        "    false_values=[\"No\"],\n",
        ")\n",
        "df.shape"
      ],
      "metadata": {
        "id": "1dq6peBnBPY4"
      },
      "execution_count": null,
      "outputs": []
    },
    {
      "cell_type": "code",
      "source": [
        "df.dtypes"
      ],
      "metadata": {
        "id": "CXMDKBVetxTs"
      },
      "execution_count": null,
      "outputs": []
    },
    {
      "cell_type": "code",
      "source": [
        "df.columns"
      ],
      "metadata": {
        "id": "PxE1aXv2pTFA",
        "collapsed": true
      },
      "execution_count": null,
      "outputs": []
    },
    {
      "cell_type": "code",
      "source": [
        "df[['Age', 'Attrition', 'BusinessTravel', 'DailyRate', 'Department',\n",
        "       'DistanceFromHome', 'Education', 'EducationField', 'EmployeeCount',\n",
        "       'EmployeeNumber', 'EnvironmentSatisfaction', 'Gender', 'HourlyRate']].head(3)\n"
      ],
      "metadata": {
        "id": "fn6STDpUEYI3"
      },
      "execution_count": null,
      "outputs": []
    },
    {
      "cell_type": "code",
      "source": [
        "df[['JobInvolvement','JobLevel','JobRole','JobSatisfaction','MaritalStatus', 'MonthlyIncome', 'MonthlyRate', 'NumCompaniesWorked',\n",
        "       'Over18', 'OverTime', 'PercentSalaryHike', 'PerformanceRating']].head(3)"
      ],
      "metadata": {
        "id": "rZrLyrp4efNn"
      },
      "execution_count": null,
      "outputs": []
    },
    {
      "cell_type": "code",
      "source": [
        "df[['RelationshipSatisfaction','StandardHours','StockOptionLevel','TotalWorkingYears','TrainingTimesLastYear', 'WorkLifeBalance',\n",
        "       'YearsAtCompany', 'YearsInCurrentRole', 'YearsSinceLastPromotion',\n",
        "       'YearsWithCurrManager']].head(3)"
      ],
      "metadata": {
        "id": "PHOoExBzewIK"
      },
      "execution_count": null,
      "outputs": []
    },
    {
      "cell_type": "code",
      "source": [
        "# Correlation Coeficient Range [-1 - 1]\n",
        "\n",
        "#-1 is perfectly negative Correlation\n",
        "#1 is perfect positive correlation"
      ],
      "metadata": {
        "id": "-w00PzG8LO0d"
      },
      "execution_count": null,
      "outputs": []
    },
    {
      "cell_type": "code",
      "source": [
        "import matplotlib.pyplot as plt\n",
        "\n",
        "fig, ax = plt.subplots(figsize=(20,10))\n",
        "df_subset_non_string = df.select_dtypes(exclude=\"object\")\n",
        "# df_subset_numeric_only = df.select_dtypes(include=\"number\") # https://pandas.pydata.org/docs/reference/api/pandas.DataFrame.select_dtypes.html\n",
        "sns.heatmap(df_subset_non_string.corr(method=\"kendall\"), annot=True, fmt=\".3f\", ax=ax);"
      ],
      "metadata": {
        "id": "8FMEuv_ZhS1B"
      },
      "execution_count": null,
      "outputs": []
    },
    {
      "cell_type": "markdown",
      "source": [
        "## Hypothesis 1: Overtime Work\n",
        "**Hypothesis:** Employees who work overtime have higher possibility of attrition<br>\n",
        "**Conlusion:**\n",
        "*   Hypothesis is true. For the whole company, the attrition rate of those who did overtime is 30.5% while for those who did not do overtime, it is only 10.4%.\n",
        "*   This pattern is more evident among the following groups of people (with overtime vs no overtime):\n",
        " *   Job Level: Employees with job level 1 at 52.6% vs 15.8%\n",
        " *   Gender: Employees who are single at 49.6% vs 16.2%\n",
        " *   Job Role: <br>\n",
        "      *   Laboratory Technitian at 50% vs 15.7% <br>\n",
        "      *   Sales Representatives at 67% vs 28.8%"
      ],
      "metadata": {
        "id": "96e_Vmklu9LJ"
      }
    },
    {
      "cell_type": "code",
      "source": [
        "#Attrition rate of those with OverTime VS without OverTime\n",
        "ax=sns.barplot(data=df[[\"Attrition\",\"OverTime\"]], x=\"OverTime\", y=\"Attrition\",errorbar=None)\n",
        "for p in ax.patches:\n",
        "    ax.annotate(f'{p.get_height():.3f}',\n",
        "                (p.get_x() + p.get_width() / 2., p.get_height()),\n",
        "                ha='center', va='center', color='black',\n",
        "                xytext=(0, 5), textcoords='offset points')\n",
        "plt.ylim(0, 1)"
      ],
      "metadata": {
        "id": "-0WxNPK8hmK3",
        "collapsed": true
      },
      "execution_count": null,
      "outputs": []
    },
    {
      "cell_type": "code",
      "source": [
        "#Attrition and Overtime for each JobLevel\n",
        "ax = sns.barplot(data=df[[\"JobLevel\",\"Attrition\",\"OverTime\"]], x=\"JobLevel\", y=\"Attrition\", hue=\"OverTime\",errorbar=None)\n",
        "for p in ax.patches:\n",
        "    ax.annotate(f'{p.get_height():.3f}',\n",
        "                (p.get_x() + p.get_width() / 2., p.get_height()),\n",
        "                ha='center', va='center', color='black',\n",
        "                xytext=(0, 5), textcoords='offset points')\n",
        "plt.ylim(0, 1)"
      ],
      "metadata": {
        "id": "AlDr3dTlfW_V"
      },
      "execution_count": null,
      "outputs": []
    },
    {
      "cell_type": "code",
      "source": [
        "#getting the rate difference\n",
        "ottrue=df[df[\"OverTime\"]==True].groupby(\"JobLevel\")[\"Attrition\"].mean()\n",
        "otfalse=df[df[\"OverTime\"]==False].groupby(\"JobLevel\")[\"Attrition\"].mean()\n",
        "ottrue-otfalse"
      ],
      "metadata": {
        "id": "CHCFL8j-UxmW"
      },
      "execution_count": null,
      "outputs": []
    },
    {
      "cell_type": "code",
      "source": [
        "#Attrition and Overtime for each Marital Status\n",
        "ax = sns.barplot(data=df[[\"MaritalStatus\",\"Attrition\",\"OverTime\"]], x=\"MaritalStatus\", y=\"Attrition\", hue=\"OverTime\",errorbar=None)\n",
        "for p in ax.patches:\n",
        "    ax.annotate(f'{p.get_height():.3f}',\n",
        "                (p.get_x() + p.get_width() / 2., p.get_height()),\n",
        "                ha='center', va='center', color='black',\n",
        "                xytext=(0, 5), textcoords='offset points')\n",
        "plt.ylim(0, 1)"
      ],
      "metadata": {
        "id": "Bypu_efhqdHm"
      },
      "execution_count": null,
      "outputs": []
    },
    {
      "cell_type": "code",
      "source": [
        "#getting the rate difference\n",
        "ottrue=df[df[\"OverTime\"]==True].groupby(\"MaritalStatus\")[\"Attrition\"].mean()\n",
        "otfalse=df[df[\"OverTime\"]==False].groupby(\"MaritalStatus\")[\"Attrition\"].mean()\n",
        "ottrue-otfalse"
      ],
      "metadata": {
        "id": "zCZ9jfhyUstj"
      },
      "execution_count": null,
      "outputs": []
    },
    {
      "cell_type": "code",
      "source": [
        "#Attrition and Overtime for each Job Role\n",
        "ax = sns.barplot(data=df[[\"JobRole\",\"Attrition\",\"OverTime\"]], y=\"JobRole\", x=\"Attrition\", hue=\"OverTime\",errorbar=None)\n",
        "for container in ax.containers:\n",
        "    ax.bar_label(container)\n",
        "plt.xlim(0, 1)"
      ],
      "metadata": {
        "id": "AtYqG2tmsNUf"
      },
      "execution_count": null,
      "outputs": []
    },
    {
      "cell_type": "code",
      "source": [
        "#getting the rate difference\n",
        "ottrue=df[df[\"OverTime\"]==True].groupby(\"JobRole\")[\"Attrition\"].mean()\n",
        "otfalse=df[df[\"OverTime\"]==False].groupby(\"JobRole\")[\"Attrition\"].mean()\n",
        "ottrue-otfalse"
      ],
      "metadata": {
        "id": "IyEU78bSUiP9"
      },
      "execution_count": null,
      "outputs": []
    },
    {
      "cell_type": "code",
      "source": [
        "#Attrition and Overtime for each department\n",
        "ax = sns.barplot(data=df[[\"Department\",\"Attrition\",\"OverTime\"]], x=\"Department\", y=\"Attrition\", hue=\"OverTime\",errorbar=None)\n",
        "for p in ax.patches:\n",
        "    ax.annotate(f'{p.get_height():.3f}',\n",
        "                (p.get_x() + p.get_width() / 2., p.get_height()),\n",
        "                ha='center', va='center', color='black',\n",
        "                xytext=(0, 5), textcoords='offset points')\n",
        "plt.ylim(0, 1)\n"
      ],
      "metadata": {
        "id": "OKwj-NIQLB3w"
      },
      "execution_count": null,
      "outputs": []
    },
    {
      "cell_type": "code",
      "source": [
        "#getting the rate difference\n",
        "ottrue=df[df[\"OverTime\"]==True].groupby(\"Department\")[\"Attrition\"].mean()\n",
        "otfalse=df[df[\"OverTime\"]==False].groupby(\"Department\")[\"Attrition\"].mean()\n",
        "ottrue-otfalse"
      ],
      "metadata": {
        "id": "Ja0bdMLVUKlS"
      },
      "execution_count": null,
      "outputs": []
    },
    {
      "cell_type": "code",
      "source": [
        "#Attrition and Overtime for each Gender\n",
        "ax = sns.barplot(data=df[[\"Gender\",\"Attrition\",\"OverTime\"]], x=\"Gender\", y=\"Attrition\", hue=\"OverTime\",errorbar=None)\n",
        "for p in ax.patches:\n",
        "    ax.annotate(f'{p.get_height():.3f}',\n",
        "                (p.get_x() + p.get_width() / 2., p.get_height()),\n",
        "                ha='center', va='center', color='black',\n",
        "                xytext=(0, 5), textcoords='offset points')\n",
        "plt.ylim(0, 1)"
      ],
      "metadata": {
        "id": "gKZqwg_vqpv4"
      },
      "execution_count": null,
      "outputs": []
    },
    {
      "cell_type": "code",
      "source": [
        "#getting the rate difference\n",
        "ottrue=df[df[\"OverTime\"]==True].groupby(\"Gender\")[\"Attrition\"].mean()\n",
        "otfalse=df[df[\"OverTime\"]==False].groupby(\"Gender\")[\"Attrition\"].mean()\n",
        "ottrue-otfalse"
      ],
      "metadata": {
        "id": "CBp5aA8iUG9b"
      },
      "execution_count": null,
      "outputs": []
    },
    {
      "cell_type": "code",
      "source": [
        "#Attrition and Overtime for each Education\n",
        "ax = sns.barplot(data=df[[\"Education\",\"Attrition\",\"OverTime\"]], x=\"Education\", y=\"Attrition\", hue=\"OverTime\",errorbar=None)\n",
        "for p in ax.patches:\n",
        "    ax.annotate(f'{p.get_height():.3f}',\n",
        "                (p.get_x() + p.get_width() / 2., p.get_height()),\n",
        "                ha='center', va='center', color='black',\n",
        "                xytext=(0, 5), textcoords='offset points')\n",
        "plt.ylim(0, 1)"
      ],
      "metadata": {
        "id": "UO8xIRsbsibS"
      },
      "execution_count": null,
      "outputs": []
    },
    {
      "cell_type": "code",
      "source": [
        "#getting the rate difference\n",
        "ottrue=df[df[\"OverTime\"]==True].groupby(\"Education\")[\"Attrition\"].mean()\n",
        "otfalse=df[df[\"OverTime\"]==False].groupby(\"Education\")[\"Attrition\"].mean()\n",
        "ottrue-otfalse"
      ],
      "metadata": {
        "id": "-tHbqmwUTptm"
      },
      "execution_count": null,
      "outputs": []
    },
    {
      "cell_type": "markdown",
      "source": [
        "## Hypothesis 2: Number of Companies Worked\n",
        "**Hypothesis 2:** Employees with higher number of previous companies have higher attrition rate compared to those who worked for fewer companies. <br>\n",
        "**Conclusion:** For the whole company, employees with 5-9 previous companies have higher attrition rate at 21.75% while those with 0-4 previous companies have an attrition rate of 14.63%. <br>\n",
        "*   This is more evident the in following groups of people:<br>\n",
        " *   Job role:\n",
        "     *   Sales Executive  with 16.3% difference in attrition rates.<br>\n",
        "     *   Research Scientist with 13.23% difference in attrition rates."
      ],
      "metadata": {
        "id": "HD4hUzvOKU-c"
      }
    },
    {
      "cell_type": "code",
      "source": [
        "df[\"NumCompaniesWorkedGroup\"] = \"\""
      ],
      "metadata": {
        "collapsed": true,
        "id": "0JrnX-cMHKYY"
      },
      "execution_count": null,
      "outputs": []
    },
    {
      "cell_type": "code",
      "source": [
        "for i in range(len(df)):\n",
        "  if df.loc[i,\"NumCompaniesWorked\"] >= 0 and df.loc[i,\"NumCompaniesWorked\"] <=4:\n",
        "      df.loc[i,\"NumCompaniesWorkedGroup\"] = \"0-4\"\n",
        "  elif df.loc[i,\"NumCompaniesWorked\"] >= 5 and df.loc[i,\"NumCompaniesWorked\"] <=9:\n",
        "      df.loc[i,\"NumCompaniesWorkedGroup\"] = \"5-9\""
      ],
      "metadata": {
        "id": "7Hr6mgfRHJjF"
      },
      "execution_count": null,
      "outputs": []
    },
    {
      "cell_type": "code",
      "source": [
        "newdf=df.groupby(\"NumCompaniesWorkedGroup\")[\"Attrition\"].mean()\n",
        "newdf"
      ],
      "metadata": {
        "id": "x0NcudK-HxcY"
      },
      "execution_count": null,
      "outputs": []
    },
    {
      "cell_type": "code",
      "source": [
        "#Attrition rate by number of companies worked\n",
        "ax=sns.barplot(data=df, x=\"NumCompaniesWorkedGroup\", y=\"Attrition\",errorbar=None, )\n",
        "ax.bar_label(ax.containers[0])\n",
        "plt.ylim(0, .5)\n"
      ],
      "metadata": {
        "id": "38ItMsuEKVJg"
      },
      "execution_count": null,
      "outputs": []
    },
    {
      "cell_type": "code",
      "source": [
        "#Number of Companies worked and attrition by Job role\n",
        "ax = sns.barplot(data=df, y=\"JobRole\", x=\"Attrition\", hue=\"NumCompaniesWorkedGroup\",errorbar=None)\n",
        "for container in ax.containers:\n",
        "    ax.bar_label(container)\n",
        "plt.xlim(0, 1)"
      ],
      "metadata": {
        "id": "V7yKiUx8N73T"
      },
      "execution_count": null,
      "outputs": []
    },
    {
      "cell_type": "code",
      "source": [
        "#getting the rate difference\n",
        "morecomp=df[df[\"NumCompaniesWorkedGroup\"]==\"5-9\"].groupby(\"JobRole\")[\"Attrition\"].mean()\n",
        "fewcomp=df[df[\"NumCompaniesWorkedGroup\"]==\"0-4\"].groupby(\"JobRole\")[\"Attrition\"].mean()\n",
        "morecomp-fewcomp"
      ],
      "metadata": {
        "id": "lXSuLqB2TQSA"
      },
      "execution_count": null,
      "outputs": []
    },
    {
      "cell_type": "code",
      "source": [
        "#Number of Companies worked and attrition by Department\n",
        "ax = sns.barplot(data=df, x=\"Department\", y=\"Attrition\", hue=\"NumCompaniesWorkedGroup\",errorbar=None)\n",
        "for container in ax.containers:\n",
        "    ax.bar_label(container)\n",
        "plt.ylim(0, 1)"
      ],
      "metadata": {
        "id": "4MFRgpLKFwd5"
      },
      "execution_count": null,
      "outputs": []
    },
    {
      "cell_type": "code",
      "source": [
        "#getting the rate difference\n",
        "morecomp=df[df[\"NumCompaniesWorkedGroup\"]==\"5-9\"].groupby(\"Department\")[\"Attrition\"].mean()\n",
        "fewcomp=df[df[\"NumCompaniesWorkedGroup\"]==\"0-4\"].groupby(\"Department\")[\"Attrition\"].mean()\n",
        "morecomp-fewcomp"
      ],
      "metadata": {
        "id": "UMZAnzaQRb5V"
      },
      "execution_count": null,
      "outputs": []
    },
    {
      "cell_type": "code",
      "source": [
        "#Number of Companies worked and attrition by Job level\n",
        "ax = sns.barplot(data=df, x=\"JobLevel\", y=\"Attrition\", hue=\"NumCompaniesWorkedGroup\",errorbar=None)\n",
        "for p in ax.patches:\n",
        "    ax.annotate(f'{p.get_height():.3f}',\n",
        "                (p.get_x() + p.get_width() / 2., p.get_height()),\n",
        "                ha='center', va='center', color='black',\n",
        "                xytext=(0, 5), textcoords='offset points')\n",
        "plt.ylim(0, 1)"
      ],
      "metadata": {
        "id": "BbN3Aj96Nd6D"
      },
      "execution_count": null,
      "outputs": []
    },
    {
      "cell_type": "code",
      "source": [
        "#getting the rate difference\n",
        "morecomp=df[df[\"NumCompaniesWorkedGroup\"]==\"5-9\"].groupby(\"JobLevel\")[\"Attrition\"].mean()\n",
        "fewcomp=df[df[\"NumCompaniesWorkedGroup\"]==\"0-4\"].groupby(\"JobLevel\")[\"Attrition\"].mean()\n",
        "morecomp-fewcomp"
      ],
      "metadata": {
        "id": "E0ErHW1VSink"
      },
      "execution_count": null,
      "outputs": []
    },
    {
      "cell_type": "code",
      "source": [
        "#Number of Companies worked and attrition by Gender\n",
        "ax = sns.barplot(data=df, x=\"Gender\", y=\"Attrition\", hue=\"NumCompaniesWorkedGroup\",errorbar=None)\n",
        "for p in ax.patches:\n",
        "    ax.annotate(f'{p.get_height():.3f}',\n",
        "                (p.get_x() + p.get_width() / 2., p.get_height()),\n",
        "                ha='center', va='center', color='black',\n",
        "                xytext=(0, 5), textcoords='offset points')\n",
        "plt.ylim(0, 1)"
      ],
      "metadata": {
        "id": "jZAou-UpNmmD"
      },
      "execution_count": null,
      "outputs": []
    },
    {
      "cell_type": "code",
      "source": [
        "#getting the rate difference\n",
        "morecomp=df[df[\"NumCompaniesWorkedGroup\"]==\"5-9\"].groupby(\"Gender\")[\"Attrition\"].mean()\n",
        "fewcomp=df[df[\"NumCompaniesWorkedGroup\"]==\"0-4\"].groupby(\"Gender\")[\"Attrition\"].mean()\n",
        "morecomp-fewcomp"
      ],
      "metadata": {
        "id": "VFYxTpzKSqlp"
      },
      "execution_count": null,
      "outputs": []
    },
    {
      "cell_type": "code",
      "source": [
        "#Number of Companies worked and attrition by Education\n",
        "ax = sns.barplot(data=df, x=\"Education\", y=\"Attrition\", hue=\"NumCompaniesWorkedGroup\",errorbar=None)\n",
        "for p in ax.patches:\n",
        "    ax.annotate(f'{p.get_height():.3f}',\n",
        "                (p.get_x() + p.get_width() / 2., p.get_height()),\n",
        "                ha='center', va='center', color='black',\n",
        "                xytext=(0, 5), textcoords='offset points')\n",
        "plt.ylim(0, 1)"
      ],
      "metadata": {
        "id": "Wi8UH2W4N02_"
      },
      "execution_count": null,
      "outputs": []
    },
    {
      "cell_type": "code",
      "source": [
        "#getting the rate difference\n",
        "morecomp=df[df[\"NumCompaniesWorkedGroup\"]==\"5-9\"].groupby(\"Education\")[\"Attrition\"].mean()\n",
        "fewcomp=df[df[\"NumCompaniesWorkedGroup\"]==\"0-4\"].groupby(\"Education\")[\"Attrition\"].mean()\n",
        "morecomp-fewcomp"
      ],
      "metadata": {
        "id": "PrMkMfBISzqd"
      },
      "execution_count": null,
      "outputs": []
    },
    {
      "cell_type": "code",
      "source": [
        "#Number of Companies worked and attrition by Marital Status\n",
        "ax = sns.barplot(data=df, x=\"MaritalStatus\", y=\"Attrition\", hue=\"NumCompaniesWorkedGroup\",errorbar=None)\n",
        "for p in ax.patches:\n",
        "    ax.annotate(f'{p.get_height():.3f}',\n",
        "                (p.get_x() + p.get_width() / 2., p.get_height()),\n",
        "                ha='center', va='center', color='black',\n",
        "                xytext=(0, 5), textcoords='offset points')\n",
        "plt.ylim(0, 1)"
      ],
      "metadata": {
        "id": "lF61uIksN_Im"
      },
      "execution_count": null,
      "outputs": []
    },
    {
      "cell_type": "code",
      "source": [
        "#getting the rate difference\n",
        "morecomp=df[df[\"NumCompaniesWorkedGroup\"]==\"5-9\"].groupby(\"MaritalStatus\")[\"Attrition\"].mean()\n",
        "fewcomp=df[df[\"NumCompaniesWorkedGroup\"]==\"0-4\"].groupby(\"MaritalStatus\")[\"Attrition\"].mean()\n",
        "morecomp-fewcomp"
      ],
      "metadata": {
        "id": "Yefk7ytsTBWZ"
      },
      "execution_count": null,
      "outputs": []
    },
    {
      "cell_type": "markdown",
      "source": [
        "## Hypothesis 3: DistanceFromHome\n",
        "**Hypothesis 3:** Employees who live farther have higher attrition rate<br>\n",
        "**Conclusion:** For the whole company, they hypothesis holds true. It is also generally true when only comparing those who live less than 10km vs those who live more than 10km. But comparing between those who live 11-20km away and those who live 21-30km away, the pattern is inconsistent. The distance is not directly proportional to the attrition rate, but I think there is a certain threshold, maybe 10k, which employees find acceptable.\n",
        "*   The group of employees that show this more evidently are:\n",
        "  *   Department: Human Resources\n",
        "  *   Job Role: Human Resources\n",
        "  *   Job Level: 3\n"
      ],
      "metadata": {
        "id": "Fwg-SCSIK6tS"
      }
    },
    {
      "cell_type": "code",
      "source": [
        "df[\"DistanceFromHomeGroup\"] = \"\""
      ],
      "metadata": {
        "id": "fmeU_Pr2IrdH"
      },
      "execution_count": null,
      "outputs": []
    },
    {
      "cell_type": "code",
      "source": [
        "for i in range(len(df)):\n",
        "  if df.loc[i,\"DistanceFromHome\"] >= 1 and df.loc[i,\"DistanceFromHome\"] <=10:\n",
        "      df.loc[i,\"DistanceFromHomeGroup\"] = \"1-10\"\n",
        "  elif df.loc[i,\"DistanceFromHome\"] >= 11 and df.loc[i,\"DistanceFromHome\"] <=20:\n",
        "      df.loc[i,\"DistanceFromHomeGroup\"] = \"11-20\"\n",
        "  elif df.loc[i,\"DistanceFromHome\"] >= 21 and df.loc[i,\"DistanceFromHome\"] <=30:\n",
        "      df.loc[i,\"DistanceFromHomeGroup\"] = \"21-30\""
      ],
      "metadata": {
        "id": "A4_3oBz2IwSX"
      },
      "execution_count": null,
      "outputs": []
    },
    {
      "cell_type": "code",
      "source": [
        "newdf=df.groupby(\"DistanceFromHomeGroup\")[\"Attrition\"].mean()\n",
        "newdf"
      ],
      "metadata": {
        "id": "QekhOoZCJhEQ"
      },
      "execution_count": null,
      "outputs": []
    },
    {
      "cell_type": "code",
      "source": [
        "sorted_distgroup = sorted(df['DistanceFromHomeGroup'].unique())\n",
        "sns.barplot(data=df, x=\"DistanceFromHomeGroup\", y=\"Attrition\",errorbar=None, order=sorted_distgroup )\n"
      ],
      "metadata": {
        "id": "bu9F4X_ZIYQI"
      },
      "execution_count": null,
      "outputs": []
    },
    {
      "cell_type": "code",
      "source": [
        "#Distance from home and attrition by Department\n",
        "ax = sns.barplot(data=df, x=\"Department\", y=\"Attrition\", hue=\"DistanceFromHomeGroup\",errorbar=None, hue_order=sorted_distgroup)\n",
        "for p in ax.patches:\n",
        "    ax.annotate(f'{p.get_height():.3f}',\n",
        "                (p.get_x() + p.get_width() / 2., p.get_height()),\n",
        "                ha='center', va='center', color='black',\n",
        "                xytext=(0, 5), textcoords='offset points')\n",
        "\n",
        "\n"
      ],
      "metadata": {
        "id": "7m1oFneUbLRq"
      },
      "execution_count": null,
      "outputs": []
    },
    {
      "cell_type": "code",
      "source": [
        "#Distance from home and attrition by JobRole\n",
        "ax = sns.barplot(data=df, y=\"JobRole\", x=\"Attrition\", hue=\"DistanceFromHomeGroup\",errorbar=None, hue_order=sorted_distgroup)\n",
        "\n",
        "# Annotate the bars with y-values limited to 3 decimal places\n",
        "for p in ax.patches:\n",
        "    ax.annotate(f'{p.get_width():.3f}',  # Format the width of each bar to 3 decimal places\n",
        "                (p.get_width(), p.get_y() + p.get_height() / 2.),  # Position the annotation\n",
        "                ha='left', va='center', xytext=(5, 0), textcoords='offset points')\n",
        "\n",
        "# Format the x-axis ticks to show 3 decimal places\n",
        "ax.xaxis.set_major_formatter(plt.FuncFormatter(lambda x, _: f'{x:.3f}'))\n"
      ],
      "metadata": {
        "id": "tuBeSD2HckEH"
      },
      "execution_count": null,
      "outputs": []
    },
    {
      "cell_type": "code",
      "source": [
        "#Distance from home and attrition by JobLevel\n",
        "ax = sns.barplot(data=df, x=\"JobLevel\", y=\"Attrition\", hue=\"DistanceFromHomeGroup\",errorbar=None, hue_order=sorted_distgroup)\n",
        "for p in ax.patches:\n",
        "    ax.annotate(f'{p.get_height():.3f}',\n",
        "                (p.get_x() + p.get_width() / 2., p.get_height()),\n",
        "                ha='center', va='center', color='black',\n",
        "                xytext=(0, 5), textcoords='offset points')\n"
      ],
      "metadata": {
        "id": "6cDXGxD1czp2"
      },
      "execution_count": null,
      "outputs": []
    },
    {
      "cell_type": "code",
      "source": [
        "#Distance from home and attrition by Gender\n",
        "ax = sns.barplot(data=df, x=\"Gender\", y=\"Attrition\", hue=\"DistanceFromHomeGroup\",errorbar=None, hue_order=sorted_distgroup)\n",
        "for p in ax.patches:\n",
        "    ax.annotate(f'{p.get_height():.3f}',\n",
        "                (p.get_x() + p.get_width() / 2., p.get_height()),\n",
        "                ha='center', va='center', color='black',\n",
        "                xytext=(0, 5), textcoords='offset points')\n",
        "plt.ylim([0,.5])"
      ],
      "metadata": {
        "id": "MFGQocR3c8zf"
      },
      "execution_count": null,
      "outputs": []
    },
    {
      "cell_type": "code",
      "source": [
        "#Distance from home and attrition by MaritalStatus\n",
        "ax = sns.barplot(data=df, x=\"MaritalStatus\", y=\"Attrition\", hue=\"DistanceFromHomeGroup\",errorbar=None, hue_order=sorted_distgroup)\n",
        "for p in ax.patches:\n",
        "    ax.annotate(f'{p.get_height():.3f}',\n",
        "                (p.get_x() + p.get_width() / 2., p.get_height()),\n",
        "                ha='center', va='center', color='black',\n",
        "                xytext=(0, 5), textcoords='offset points')\n"
      ],
      "metadata": {
        "id": "NKC2bYLzdKkt"
      },
      "execution_count": null,
      "outputs": []
    },
    {
      "cell_type": "code",
      "source": [
        "#Distance from home and attrition by Education\n",
        "ax = sns.barplot(data=df, x=\"Education\", y=\"Attrition\", hue=\"DistanceFromHomeGroup\",errorbar=None, hue_order=sorted_distgroup)\n",
        "for p in ax.patches:\n",
        "    ax.annotate(f'{p.get_height():.2f}',\n",
        "                (p.get_x() + p.get_width() / 2., p.get_height()),\n",
        "                ha='center', va='center', fontsize=9,color='black',\n",
        "                xytext=(0, 5), textcoords='offset points')\n",
        "plt.ylim([0,.5])"
      ],
      "metadata": {
        "id": "tNeTsOMUdwva"
      },
      "execution_count": null,
      "outputs": []
    },
    {
      "cell_type": "markdown",
      "source": [
        "## Hypothesis 4: Monthly Rate\n",
        "**Hypothesis** Low Monthly Rate increases attrition\n",
        "Hypothesis <br>\n",
        "**Conclusion** Though it might be intuitive to assume that low monthly rates would make employees leave and high monthly rates will make employees stay, this is not what the data shows. For the whole company, the highest attrition is among those with monthly rates between 25k to 30k at 20.8% followed by those with 10k-15k at 18.5%. <br>Those with rates between 5k-10k have lower attrition rate than those earning 15k-25k."
      ],
      "metadata": {
        "id": "e5lo9MygvO9V"
      }
    },
    {
      "cell_type": "code",
      "source": [
        "df[\"MonthlyRateBucket\"]=0"
      ],
      "metadata": {
        "id": "dsT8vHaQAWGd"
      },
      "execution_count": null,
      "outputs": []
    },
    {
      "cell_type": "code",
      "source": [
        "\n",
        "#min: 1000\n",
        "#max: 30000\n",
        "\n",
        "for i in range(len(df)):\n",
        "  if df.loc[i,\"MonthlyRate\"] >= 1000 and df.loc[i,\"MonthlyRate\"] < 5000:\n",
        "      df.loc[i,\"MonthlyRateBucket\"] = 5000\n",
        "  elif df.loc[i,\"MonthlyRate\"] >= 5000 and df.loc[i,\"MonthlyRate\"] < 10000:\n",
        "      df.loc[i,\"MonthlyRateBucket\"] = 10000\n",
        "  elif df.loc[i,\"MonthlyRate\"] >= 10000 and df.loc[i,\"MonthlyRate\"] < 15000:\n",
        "      df.loc[i,\"MonthlyRateBucket\"] = 15000\n",
        "  elif df.loc[i,\"MonthlyRate\"] >= 15000 and df.loc[i,\"MonthlyRate\"] < 20000:\n",
        "      df.loc[i,\"MonthlyRateBucket\"] = 20000\n",
        "  elif df.loc[i,\"MonthlyRate\"] >= 20000 and df.loc[i,\"MonthlyRate\"] < 25000:\n",
        "      df.loc[i,\"MonthlyRateBucket\"] = 25000\n",
        "  elif df.loc[i,\"MonthlyRate\"] >= 25000 and df.loc[i,\"MonthlyRate\"] < 30000:\n",
        "      df.loc[i,\"MonthlyRateBucket\"] = 30000\n",
        "newdf = df.groupby(\"MonthlyRateBucket\")[\"Attrition\"].mean().reset_index()\n",
        "newdf"
      ],
      "metadata": {
        "id": "kXJGU5pRC0C0"
      },
      "execution_count": null,
      "outputs": []
    },
    {
      "cell_type": "code",
      "source": [
        "#Attrition rate of those with OverTime VS without OverTime\n",
        "ax=sns.barplot(data=newdf, x=\"MonthlyRateBucket\", y=\"Attrition\",errorbar=None, )\n",
        "ax.bar_label(ax.containers[0])\n",
        "plt.ylim(0, .5)\n"
      ],
      "metadata": {
        "id": "6zrCAyAuBoL7"
      },
      "execution_count": null,
      "outputs": []
    }
  ]
}